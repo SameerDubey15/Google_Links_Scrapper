{
 "cells": [
  {
   "cell_type": "code",
   "execution_count": 1,
   "id": "46d113c9",
   "metadata": {},
   "outputs": [],
   "source": [
    "import requests\n",
    "from bs4 import BeautifulSoup\n",
    "import pandas as pd\n",
    "import time\n",
    "import time\n",
    "from selenium import webdriver\n",
    "from selenium.webdriver.common.keys import Keys\n",
    "from selenium.webdriver.common.by import By\n",
    "from selenium.webdriver.support.ui import WebDriverWait\n",
    "from selenium.webdriver.support import expected_conditions as EC\n",
    "from selenium.common.exceptions import StaleElementReferenceException\n",
    "from selenium.common.exceptions import NoSuchElementException"
   ]
  },
  {
   "cell_type": "code",
   "execution_count": 2,
   "id": "223b2833",
   "metadata": {},
   "outputs": [],
   "source": [
    "# Set up the Selenium driver (make sure you have the appropriate web driver executable in your system PATH)\n",
    "driver = webdriver.Chrome()"
   ]
  },
  {
   "cell_type": "code",
   "execution_count": 9,
   "id": "614fc3c1",
   "metadata": {},
   "outputs": [
    {
     "name": "stdout",
     "output_type": "stream",
     "text": [
      "The number of pages to be extracted is: 10\n",
      "Query to be searched: business coach usa and uae website\n"
     ]
    }
   ],
   "source": [
    "pages=int(input('The number of pages to be extracted is: '))\n",
    "query=input('Query to be searched: ')"
   ]
  },
  {
   "cell_type": "code",
   "execution_count": 42,
   "id": "0da1067a",
   "metadata": {},
   "outputs": [],
   "source": [
    "links=[]\n",
    "website=set()\n",
    "# Storing page links\n",
    "for page in range(pages):\n",
    "    url = f\"https://www.google.com/search?q={query}&start={page * 10}\"\n",
    "    links.append(url)\n",
    "# Navigate to the google pages\n",
    "for i in links:\n",
    "    driver.get(i)\n",
    "    time.sleep(2)\n",
    "    \n",
    "    # Getting HTMl of page\n",
    "    src = driver.page_source\n",
    "    soup = BeautifulSoup(src, 'lxml')\n",
    "    \n",
    "    #finding links\n",
    "    div_tag=soup.find_all(\"div\",{'class':'yuRUbf'})\n",
    "    for a in range(len(div_tag)):\n",
    "        a_tag=div_tag[a].find('a')\n",
    "        href=a_tag['href']\n",
    "        website.add(href)"
   ]
  },
  {
   "cell_type": "code",
   "execution_count": 44,
   "id": "e5d2bf7c",
   "metadata": {},
   "outputs": [
    {
     "data": {
      "text/html": [
       "<div>\n",
       "<style scoped>\n",
       "    .dataframe tbody tr th:only-of-type {\n",
       "        vertical-align: middle;\n",
       "    }\n",
       "\n",
       "    .dataframe tbody tr th {\n",
       "        vertical-align: top;\n",
       "    }\n",
       "\n",
       "    .dataframe thead th {\n",
       "        text-align: right;\n",
       "    }\n",
       "</style>\n",
       "<table border=\"1\" class=\"dataframe\">\n",
       "  <thead>\n",
       "    <tr style=\"text-align: right;\">\n",
       "      <th></th>\n",
       "      <th>Website</th>\n",
       "    </tr>\n",
       "  </thead>\n",
       "  <tbody>\n",
       "    <tr>\n",
       "      <th>0</th>\n",
       "      <td>https://coachingfederation.org/find-a-coach</td>\n",
       "    </tr>\n",
       "    <tr>\n",
       "      <th>1</th>\n",
       "      <td>https://byjus.com/</td>\n",
       "    </tr>\n",
       "    <tr>\n",
       "      <th>2</th>\n",
       "      <td>https://johnmattone.com/</td>\n",
       "    </tr>\n",
       "    <tr>\n",
       "      <th>3</th>\n",
       "      <td>https://www.volvobuses.com/en/</td>\n",
       "    </tr>\n",
       "    <tr>\n",
       "      <th>4</th>\n",
       "      <td>https://www.bentleymotors.com/en.html</td>\n",
       "    </tr>\n",
       "    <tr>\n",
       "      <th>...</th>\n",
       "      <td>...</td>\n",
       "    </tr>\n",
       "    <tr>\n",
       "      <th>106</th>\n",
       "      <td>https://ae.linkedin.com/in/michellk</td>\n",
       "    </tr>\n",
       "    <tr>\n",
       "      <th>107</th>\n",
       "      <td>https://www.egonzehnder.com/office/middle-east</td>\n",
       "    </tr>\n",
       "    <tr>\n",
       "      <th>108</th>\n",
       "      <td>https://douglambert.net/</td>\n",
       "    </tr>\n",
       "    <tr>\n",
       "      <th>109</th>\n",
       "      <td>https://www.etihad.com/en/book/airport-transfe...</td>\n",
       "    </tr>\n",
       "    <tr>\n",
       "      <th>110</th>\n",
       "      <td>https://www.kaizen.consulting/</td>\n",
       "    </tr>\n",
       "  </tbody>\n",
       "</table>\n",
       "<p>111 rows × 1 columns</p>\n",
       "</div>"
      ],
      "text/plain": [
       "                                               Website\n",
       "0          https://coachingfederation.org/find-a-coach\n",
       "1                                   https://byjus.com/\n",
       "2                             https://johnmattone.com/\n",
       "3                       https://www.volvobuses.com/en/\n",
       "4                https://www.bentleymotors.com/en.html\n",
       "..                                                 ...\n",
       "106                https://ae.linkedin.com/in/michellk\n",
       "107     https://www.egonzehnder.com/office/middle-east\n",
       "108                           https://douglambert.net/\n",
       "109  https://www.etihad.com/en/book/airport-transfe...\n",
       "110                     https://www.kaizen.consulting/\n",
       "\n",
       "[111 rows x 1 columns]"
      ]
     },
     "execution_count": 44,
     "metadata": {},
     "output_type": "execute_result"
    }
   ],
   "source": [
    "website_url=list(website)\n",
    "data={'Website':website_url}\n",
    "df=pd.DataFrame(data)\n",
    "df.to_excel(\"Website.xlsx\")\n",
    "df"
   ]
  },
  {
   "cell_type": "code",
   "execution_count": null,
   "id": "568192d4",
   "metadata": {},
   "outputs": [],
   "source": []
  }
 ],
 "metadata": {
  "kernelspec": {
   "display_name": "Python 3 (ipykernel)",
   "language": "python",
   "name": "python3"
  },
  "language_info": {
   "codemirror_mode": {
    "name": "ipython",
    "version": 3
   },
   "file_extension": ".py",
   "mimetype": "text/x-python",
   "name": "python",
   "nbconvert_exporter": "python",
   "pygments_lexer": "ipython3",
   "version": "3.9.12"
  }
 },
 "nbformat": 4,
 "nbformat_minor": 5
}
